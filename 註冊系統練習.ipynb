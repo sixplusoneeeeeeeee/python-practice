{
  "nbformat": 4,
  "nbformat_minor": 0,
  "metadata": {
    "colab": {
      "name": "註冊系統練習",
      "provenance": [],
      "collapsed_sections": []
    },
    "kernelspec": {
      "name": "python3",
      "display_name": "Python 3"
    }
  },
  "cells": [
    {
      "cell_type": "code",
      "metadata": {
        "colab": {
          "base_uri": "https://localhost:8080/"
        },
        "id": "r7yH94xCl_mq",
        "outputId": "8536730e-3dea-4629-ec24-5528f40bd505"
      },
      "source": [
        "# 註冊系統\n",
        "#情境:\n",
        "#註冊開始\n",
        "#是否結束(y/n):n\n",
        "#請輸入學生姓名:小王\n",
        "#是否結束(y/n):n\n",
        "#請輸入學生姓名:小李\n",
        "#是否結束(y/n):p\n",
        "#輸入錯誤請輸入y/n:y\n",
        "#註冊結束\n",
        "#班級共2人,名稱為小王 小李\n",
        "\n",
        "\n",
        "student_list = []\n",
        "print('註冊開始')\n",
        "\n",
        "while True:\n",
        "  first_step = input('是否結束(y/n):')\n",
        "  if first_step == 'n':\n",
        "    second_step = input('請輸入學生姓名:')\n",
        "    student_list.append(second_step)\n",
        "   \n",
        "  elif first_step == 'y':\n",
        "    print('註冊結束')\n",
        "    print('班級共',len(student_list),'人')\n",
        "    print('名稱為',student_list)\n",
        "    break\n",
        "    \n",
        "  else: second_step = input('輸入錯誤請輸入(y/n):')"
      ],
      "execution_count": null,
      "outputs": [
        {
          "output_type": "stream",
          "text": [
            "註冊開始\n",
            "是否結束(y/n):n\n",
            "請輸入學生姓名:小美\n",
            "是否結束(y/n):n\n",
            "請輸入學生姓名:小黃\n",
            "是否結束(y/n):ppp\n",
            "輸入錯誤請輸入(y/n):y\n",
            "是否結束(y/n):y\n",
            "註冊結束\n",
            "班級共 2 人\n",
            "名稱為 ['小美', '小黃']\n"
          ],
          "name": "stdout"
        }
      ]
    }
  ]
}