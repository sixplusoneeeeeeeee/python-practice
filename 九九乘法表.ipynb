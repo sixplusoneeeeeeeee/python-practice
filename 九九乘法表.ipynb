{
  "nbformat": 4,
  "nbformat_minor": 0,
  "metadata": {
    "colab": {
      "name": "九九乘法表",
      "provenance": [],
      "collapsed_sections": []
    },
    "kernelspec": {
      "name": "python3",
      "display_name": "Python 3"
    }
  },
  "cells": [
    {
      "cell_type": "markdown",
      "metadata": {
        "id": "cppkMv1JXJMR"
      },
      "source": [
        "\n",
        "經典例題,刻出九九乘法表\n",
        "\n",
        "**提示**:\n",
        "- 雙層迴圈\n",
        "- print不換行,加入end參數"
      ]
    },
    {
      "cell_type": "code",
      "metadata": {
        "id": "tIIXj2NHXPvl",
        "colab": {
          "base_uri": "https://localhost:8080/"
        },
        "outputId": "15f298c8-1e49-4a86-f3df-df446dab270c"
      },
      "source": [
        "# 你的程式碼\n",
        "for i in range(1,10):\n",
        "  for j in range(1,10):\n",
        "    print(i*j, end='\\t')\n",
        "  print()\n"
      ],
      "execution_count": null,
      "outputs": [
        {
          "output_type": "stream",
          "text": [
            "1\t2\t3\t4\t5\t6\t7\t8\t9\t\n",
            "2\t4\t6\t8\t10\t12\t14\t16\t18\t\n",
            "3\t6\t9\t12\t15\t18\t21\t24\t27\t\n",
            "4\t8\t12\t16\t20\t24\t28\t32\t36\t\n",
            "5\t10\t15\t20\t25\t30\t35\t40\t45\t\n",
            "6\t12\t18\t24\t30\t36\t42\t48\t54\t\n",
            "7\t14\t21\t28\t35\t42\t49\t56\t63\t\n",
            "8\t16\t24\t32\t40\t48\t56\t64\t72\t\n",
            "9\t18\t27\t36\t45\t54\t63\t72\t81\t\n"
          ],
          "name": "stdout"
        }
      ]
    }
  ]
}