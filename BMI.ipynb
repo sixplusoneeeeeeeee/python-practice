{
  "nbformat": 4,
  "nbformat_minor": 0,
  "metadata": {
    "colab": {
      "name": "BMI",
      "provenance": [],
      "collapsed_sections": []
    },
    "kernelspec": {
      "name": "python3",
      "display_name": "Python 3"
    }
  },
  "cells": [
    {
      "cell_type": "markdown",
      "metadata": {
        "id": "t7EOC2uyjX2-"
      },
      "source": [
        "\n",
        "詢問性別,身高,體重\n",
        "\n",
        "程式將會依照衛生部規定給予結論\n",
        "\n",
        "Ex. 男生 BMI得分:23 結論:身材正常\n",
        "\n"
      ]
    },
    {
      "cell_type": "code",
      "metadata": {
        "colab": {
          "base_uri": "https://localhost:8080/"
        },
        "id": "o2mLuUXYVAhO",
        "outputId": "80700fce-1f54-4b60-8ac5-29f2018708ca"
      },
      "source": [
        "_sex = input('請輸入性別 ')\n",
        "_kg = float(input('請輸入體重(單位公斤)' ))\n",
        "_meter = float(input('請輸入身高(單位公尺) '))\n",
        "\n",
        "_bmi =round((_kg / (_meter ** 2)),2)\n",
        "\n",
        "if _bmi < 18.5:\n",
        "  print('BMI為',_bmi,' 身材過輕')\n",
        "elif _bmi >= 18.5 and _bmi < 23:\n",
        "  print('BMI為',_bmi,' 身材適中')\n",
        "elif _bmi >= 23 and _bmi < 25:\n",
        "  print('BMI為',_bmi,' 身材過重')\n",
        "elif _bmi >= 25:\n",
        "  print('BMI為',_bmi,' 身材肥胖')"
      ],
      "execution_count": null,
      "outputs": [
        {
          "output_type": "stream",
          "text": [
            "請輸入性別 女\n",
            "請輸入體重(單位公斤)163\n",
            "請輸入身高(單位公尺) 52\n",
            "BMI為 0.06  身材過輕\n"
          ],
          "name": "stdout"
        }
      ]
    },
    {
      "cell_type": "code",
      "metadata": {
        "id": "AkemoFtHlq5K"
      },
      "source": [
        ""
      ],
      "execution_count": null,
      "outputs": []
    }
  ]
}