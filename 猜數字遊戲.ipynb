{
  "nbformat": 4,
  "nbformat_minor": 0,
  "metadata": {
    "colab": {
      "name": "猜數字遊戲",
      "provenance": [],
      "collapsed_sections": []
    },
    "kernelspec": {
      "name": "python3",
      "display_name": "Python 3"
    }
  },
  "cells": [
    {
      "cell_type": "code",
      "metadata": {
        "colab": {
          "base_uri": "https://localhost:8080/"
        },
        "id": "5e5EZWkJUV-N",
        "outputId": "d5e2a15a-d6cd-4909-d03c-1e0f34da112a"
      },
      "source": [
        "import random\n",
        "a = 0\n",
        "b = 0\n",
        "tries = 0\n",
        "ans = list(str(random.randint(100,999)))\n",
        "print(ans)\n",
        "while tries<5:\n",
        "  guess = input('請輸入三個數字:')\n",
        "  if guess[0] == str(ans[0]):\n",
        "    a+=1\n",
        "  if guess[1] == str(ans[1]):\n",
        "    a+=1\n",
        "  if guess[2] == str(ans[2]):\n",
        "    a+=1\n",
        "  if guess[0] == str(ans[1]):\n",
        "    b+=1\n",
        "  if guess[0] == str(ans[2]):\n",
        "    b+=1 \n",
        "  if guess[1] == str(ans[0]):\n",
        "    b+=1  \n",
        "  if guess[1] == str(ans[2]):\n",
        "    b+=1\n",
        "  if guess[2] == str(ans[0]):\n",
        "    b+=1 \n",
        "  if guess[2] == str(ans[1]):\n",
        "    b+=1\n",
        "  print('猜中',a,'A',b,'B')\n",
        "  if a == 3:\n",
        "    break\n",
        "else:\n",
        "  print('lose')\n",
        "  print('answer is:',ans)"
      ],
      "execution_count": null,
      "outputs": [
        {
          "output_type": "stream",
          "text": [
            "['6', '8', '7']\n",
            "請輸入三個數字:678\n",
            "猜中 1 A 2 B\n",
            "請輸入三個數字:234\n",
            "猜中 1 A 2 B\n",
            "請輸入三個數字:123\n",
            "猜中 1 A 2 B\n"
          ],
          "name": "stdout"
        }
      ]
    }
  ]
}