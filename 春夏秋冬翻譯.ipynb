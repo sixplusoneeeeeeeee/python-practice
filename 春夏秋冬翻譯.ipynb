{
  "nbformat": 4,
  "nbformat_minor": 0,
  "metadata": {
    "colab": {
      "name": "春夏秋冬翻譯",
      "provenance": [],
      "collapsed_sections": []
    },
    "kernelspec": {
      "name": "python3",
      "display_name": "Python 3"
    }
  },
  "cells": [
    {
      "cell_type": "markdown",
      "metadata": {
        "id": "TA507R-lYWGM"
      },
      "source": [
        "\n",
        "春夏秋冬翻譯題:\n",
        "(spring summer fall winter)\n",
        "\n",
        "Ex.\n",
        "\n",
        "input: 春天\n",
        "\n",
        "output: spring\n",
        "\n",
        "------------------\n",
        "Ex. \n",
        "\n",
        "input: fall\n",
        "\n",
        "output: 秋天\n",
        "\n",
        "提示:\n",
        "- 先把你的做法完成,可以思考改成dict的用法唷\n"
      ]
    },
    {
      "cell_type": "code",
      "metadata": {
        "id": "EkG0fIqHXM26",
        "colab": {
          "base_uri": "https://localhost:8080/"
        },
        "outputId": "1629f76b-fca0-4542-eff7-979b9641cc79"
      },
      "source": [
        "# 你的程式碼\n",
        "name = input('輸入季節')\n",
        "if name == '春天':\n",
        "  print('spring')\n",
        "elif name == '夏天':\n",
        "  print('summer')\n",
        "elif name == '秋天':\n",
        "  print('fall')\n",
        "elif name == '冬天':\n",
        "  print('winter')\n",
        "\n"
      ],
      "execution_count": null,
      "outputs": [
        {
          "output_type": "stream",
          "text": [
            "輸入季節春天\n",
            "spring\n"
          ],
          "name": "stdout"
        }
      ]
    },
    {
      "cell_type": "code",
      "metadata": {
        "colab": {
          "base_uri": "https://localhost:8080/"
        },
        "id": "fNfmuvkqzXV8",
        "outputId": "ffdd0805-b7c6-4b08-e674-a16b2f1b0692"
      },
      "source": [
        "season_tw = {'春天':'spring',\n",
        "        '秋天':'fall',\n",
        "        '夏天':'summer',\n",
        "        '冬天':'winter'}\n",
        "season_en = {'spring':'春天',\n",
        "        'fall':'秋天',\n",
        "        'summer':'夏天',\n",
        "        'winter':'冬天'}\n",
        "your_input = input('請輸入')\n",
        "if your_input in season_tw.keys():\n",
        "  print(season_tw[your_input])\n",
        "elif your_input in season_en.keys():\n",
        "  print(season_en[your_input])"
      ],
      "execution_count": null,
      "outputs": [
        {
          "output_type": "stream",
          "text": [
            "請輸入winter\n",
            "冬天\n"
          ],
          "name": "stdout"
        }
      ]
    },
    {
      "cell_type": "code",
      "metadata": {
        "colab": {
          "base_uri": "https://localhost:8080/"
        },
        "id": "c04ZoHFKQvR6",
        "outputId": "5a7f6118-15f7-4ccd-89d3-1f8c697e57e1"
      },
      "source": [
        "user_input = input('輸入: ')\n",
        "dict = {\n",
        "  '春天': 'spring',\n",
        "  '夏天': 'summer',\n",
        "  '秋天': 'fall',\n",
        "  '冬天': 'winter',\n",
        "  'spring': '春天',\n",
        "  'summer': '夏天',\n",
        "  'fall': '秋天',\n",
        "  'winter': '冬天'\n",
        "}\n",
        "print(dict[user_input])"
      ],
      "execution_count": null,
      "outputs": [
        {
          "output_type": "stream",
          "text": [
            "輸入: spring\n",
            "春天\n"
          ],
          "name": "stdout"
        }
      ]
    }
  ]
}