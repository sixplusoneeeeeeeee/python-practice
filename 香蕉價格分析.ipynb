{
  "nbformat": 4,
  "nbformat_minor": 0,
  "metadata": {
    "colab": {
      "name": "香蕉價格分析",
      "provenance": [],
      "collapsed_sections": []
    },
    "kernelspec": {
      "name": "python3",
      "display_name": "Python 3"
    }
  },
  "cells": [
    {
      "cell_type": "markdown",
      "metadata": {
        "id": "Gvk-4dGdZZ2m"
      },
      "source": [
        "**探討2020年3月到12月香蕉價格走勢**"
      ]
    },
    {
      "cell_type": "code",
      "metadata": {
        "id": "J2CWahvQ1d0r"
      },
      "source": [
        "import pandas as pd\n",
        "import numpy as np\n",
        "df_fare = pd.read_csv('https://datacenter.taichung.gov.tw/swagger/OpenData/7196c54b-966b-48c8-8c3e-5124ac8070d1')"
      ],
      "execution_count": null,
      "outputs": []
    },
    {
      "cell_type": "code",
      "metadata": {
        "id": "DiDCyP1l1pwu"
      },
      "source": [
        "# object converted into datetime\n",
        "df_fare[\"訪價日期\"]= pd.to_datetime(df_fare[\"訪價日期\"],format=\"%d/%m/%Y\") \n",
        "df_fare.set_index(\"訪價日期\")\n",
        "df_fare.set_index(\"香蕉\")\n",
        "df_fare.head()"
      ],
      "execution_count": null,
      "outputs": []
    },
    {
      "cell_type": "code",
      "metadata": {
        "id": "y6qLbGK1LsiF",
        "colab": {
          "base_uri": "https://localhost:8080/"
        },
        "outputId": "d2d1684f-4777-4cae-a011-aa0f6863e1e9"
      },
      "source": [
        "df['香蕉']['2020-3'].mean()"
      ],
      "execution_count": null,
      "outputs": [
        {
          "output_type": "execute_result",
          "data": {
            "text/plain": [
              "25.26605504587156"
            ]
          },
          "metadata": {
            "tags": []
          },
          "execution_count": 171
        }
      ]
    },
    {
      "cell_type": "code",
      "metadata": {
        "colab": {
          "base_uri": "https://localhost:8080/"
        },
        "id": "zXLIogLBVznm",
        "outputId": "42a1ead1-200f-4f5e-cd13-4d9e33523d63"
      },
      "source": [
        "df['香蕉']['2020-4'].mean()"
      ],
      "execution_count": null,
      "outputs": [
        {
          "output_type": "execute_result",
          "data": {
            "text/plain": [
              "25.26605504587156"
            ]
          },
          "metadata": {
            "tags": []
          },
          "execution_count": 172
        }
      ]
    },
    {
      "cell_type": "code",
      "metadata": {
        "colab": {
          "base_uri": "https://localhost:8080/"
        },
        "id": "Iup75mjBV3F9",
        "outputId": "b367e7a6-103b-4115-bb29-94ccad695d53"
      },
      "source": [
        "df['香蕉']['2020-5'].mean()"
      ],
      "execution_count": null,
      "outputs": [
        {
          "output_type": "execute_result",
          "data": {
            "text/plain": [
              "24.904458598726116"
            ]
          },
          "metadata": {
            "tags": []
          },
          "execution_count": 173
        }
      ]
    },
    {
      "cell_type": "code",
      "metadata": {
        "colab": {
          "base_uri": "https://localhost:8080/"
        },
        "id": "Op6YycIxV9IJ",
        "outputId": "6ee251ee-57b1-40be-88a4-a8f67227926c"
      },
      "source": [
        "df['香蕉']['2020-6'].mean()"
      ],
      "execution_count": null,
      "outputs": [
        {
          "output_type": "execute_result",
          "data": {
            "text/plain": [
              "20.18840579710145"
            ]
          },
          "metadata": {
            "tags": []
          },
          "execution_count": 174
        }
      ]
    },
    {
      "cell_type": "code",
      "metadata": {
        "colab": {
          "base_uri": "https://localhost:8080/"
        },
        "id": "7ukpmQoNWAcR",
        "outputId": "2c3871d6-72a8-46f1-95e2-65e2a04471fc"
      },
      "source": [
        "df['香蕉']['2020-7'].mean()"
      ],
      "execution_count": null,
      "outputs": [
        {
          "output_type": "execute_result",
          "data": {
            "text/plain": [
              "17.491017964071855"
            ]
          },
          "metadata": {
            "tags": []
          },
          "execution_count": 175
        }
      ]
    },
    {
      "cell_type": "code",
      "metadata": {
        "colab": {
          "base_uri": "https://localhost:8080/"
        },
        "id": "ij5jmWRVWFsh",
        "outputId": "e5492875-47c8-4b6b-8566-3b59ed279cb0"
      },
      "source": [
        "df['香蕉']['2020-8'].mean()"
      ],
      "execution_count": null,
      "outputs": [
        {
          "output_type": "execute_result",
          "data": {
            "text/plain": [
              "18.361702127659573"
            ]
          },
          "metadata": {
            "tags": []
          },
          "execution_count": 176
        }
      ]
    },
    {
      "cell_type": "code",
      "metadata": {
        "colab": {
          "base_uri": "https://localhost:8080/"
        },
        "id": "_82C2349WFuv",
        "outputId": "7358c2d6-6644-4057-8d28-47f94a518a28"
      },
      "source": [
        "df['香蕉']['2020-9'].mean()"
      ],
      "execution_count": null,
      "outputs": [
        {
          "output_type": "execute_result",
          "data": {
            "text/plain": [
              "17.17808219178082"
            ]
          },
          "metadata": {
            "tags": []
          },
          "execution_count": 177
        }
      ]
    },
    {
      "cell_type": "code",
      "metadata": {
        "colab": {
          "base_uri": "https://localhost:8080/"
        },
        "id": "kcF5PY4rWFxX",
        "outputId": "109e2ad2-5e65-477f-88aa-f48832c2688e"
      },
      "source": [
        "df['香蕉']['2020-10'].mean()"
      ],
      "execution_count": null,
      "outputs": [
        {
          "output_type": "execute_result",
          "data": {
            "text/plain": [
              "14.570977917981072"
            ]
          },
          "metadata": {
            "tags": []
          },
          "execution_count": 178
        }
      ]
    },
    {
      "cell_type": "code",
      "metadata": {
        "colab": {
          "base_uri": "https://localhost:8080/"
        },
        "id": "K5o_1zSWWF0m",
        "outputId": "ca7ab0d9-a7d4-476c-bf23-174b0815ece5"
      },
      "source": [
        "df['香蕉']['2020-11'].mean()"
      ],
      "execution_count": null,
      "outputs": [
        {
          "output_type": "execute_result",
          "data": {
            "text/plain": [
              "15.10828025477707"
            ]
          },
          "metadata": {
            "tags": []
          },
          "execution_count": 179
        }
      ]
    },
    {
      "cell_type": "code",
      "metadata": {
        "colab": {
          "base_uri": "https://localhost:8080/"
        },
        "id": "ynkUbULWWTvq",
        "outputId": "bb33d5bf-84ee-48af-af42-9dabee09756e"
      },
      "source": [
        "df['香蕉']['2020-12'].mean()"
      ],
      "execution_count": null,
      "outputs": [
        {
          "output_type": "execute_result",
          "data": {
            "text/plain": [
              "14.697247706422019"
            ]
          },
          "metadata": {
            "tags": []
          },
          "execution_count": 180
        }
      ]
    },
    {
      "cell_type": "code",
      "metadata": {
        "colab": {
          "base_uri": "https://localhost:8080/",
          "height": 652
        },
        "id": "-kKd5a-_XKq_",
        "outputId": "aa4a19e5-eb43-4613-8bdb-b6f2b4515923"
      },
      "source": [
        "import matplotlib.pyplot as plt\n",
        "month = [3,4,5,6,7,8,9,10,11,12]\n",
        "banana_meanfare =[25.26605504587156,25.26605504587156,24.904458598726116,20.18840579710145,17.491017964071855,18.361702127659573,17.17808219178082,14.570977917981072,15.10828025477707,14.697247706422019]\n",
        "\n",
        "plt.figure(figsize=(12,7),dpi=100,linewidth = 2)\n",
        "plt.plot(month,banana_meanfare,'s-',color = 'r', label=\"banana\")\n",
        "# 设置刻度字体大小\n",
        "\n",
        "plt.xticks(fontsize=10)\n",
        "\n",
        "plt.yticks(fontsize=10)\n",
        "\n",
        "# 標示x軸(labelpad代表與圖片的距離)\n",
        "\n",
        "plt.xlabel(\"month\", fontsize=30, labelpad = 15)\n",
        "\n",
        "# 標示y軸(labelpad代表與圖片的距離)\n",
        "\n",
        "plt.ylabel(\"price\", fontsize=30, labelpad = 20)\n",
        "\n",
        "# 顯示出線條標記位置\n",
        "\n",
        "plt.legend(loc = \"best\", fontsize=20)\n",
        "\n",
        "# 畫出圖片\n",
        "\n",
        "plt.show()"
      ],
      "execution_count": 4,
      "outputs": [
        {
          "output_type": "display_data",
          "data": {
            "image/png": "[encoded data removed]",
            "text/plain": [
              "<Figure size 1200x700 with 1 Axes>"
            ]
          },
          "metadata": {
            "tags": [],
            "needs_background": "light"
          }
        }
      ]
    },
    {
      "cell_type": "markdown",
      "metadata": {
        "id": "61_g3nw6DM3Z"
      },
      "source": [
        "由圖片所知，香蕉於10月~12月平均價格最便宜，3月最貴"
      ]
    }
  ]
}